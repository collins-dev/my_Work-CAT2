import numpy as np
import pandas as pd
from sklearn.model_selection import train_test_split
from sklearn.ensemble import RandomForestClassifier
from sklearn.metrics import accuracy_score, classification_report
from sklearn.preprocessing import LabelEncoder
from sklearn.impute import SimpleImputer

data_path = ('my_data.csv')
data = pd.read_csv(data_path)

# here I will be Exploring the dataset
print(data.head())


# here 'Timestamp' is a feature that needs to be converted to datetime format
data['Timestamp'] = pd.to_datetime(data['Timestamp'])

#  Encode categorical variables
le = LabelEncoder()
data['Status'] = le.fit_transform(data['Status'])

#  Featurring engineering for timestamps
data['HourOfDay'] = data['Timestamp'].dt.hour


# Handling missing values
imputer = SimpleImputer(strategy='mean')
data['Temperature'] = imputer.fit_transform(data[['Temperature']])
data['Pressure'] = imputer.fit_transform(data[['Pressure']])

# Define features and target variable
features = ['Temperature', 'Pressure', 'HourOfDay']
target = 'Status'

#  Split the data into training and testing sets
X_train, X_test, y_train, y_test = train_test_split(data[features], data[target], test_size=0.2, random_state=42)

# Train a machine learning model
model = RandomForestClassifier(random_state=42)
model.fit(X_train, y_train)

# Make predictions on the test set
y_pred = model.predict(X_test)

#  Evaluating the model
accuracy = accuracy_score(y_test, y_pred)
classification_report_result = classification_report(y_test, y_pred)

print(f"Accuracy: {accuracy}")
print("Classification Report:\n", classification_report_result)
